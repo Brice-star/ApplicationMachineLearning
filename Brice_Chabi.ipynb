{
  "nbformat": 4,
  "nbformat_minor": 0,
  "metadata": {
    "colab": {
      "provenance": []
    },
    "kernelspec": {
      "name": "python3",
      "display_name": "Python 3"
    },
    "language_info": {
      "name": "python"
    }
  },
  "cells": [
    {
      "cell_type": "code",
      "execution_count": 16,
      "metadata": {
        "id": "AMLKCDAilzTn"
      },
      "outputs": [],
      "source": [
        "# -*- coding: utf-8 -*-\n",
        "\"\"\"Entraînement d’un PMC, d’un réseau de neurones profond de type CNN et transfert d’apprentissage\"\"\"\n",
        "\n",
        "\n",
        "#  IMPORTATIONS\n",
        "import pandas as pd\n",
        "import numpy as np\n",
        "import tensorflow as tf\n",
        "from tensorflow.keras.models import Sequential\n",
        "from tensorflow.keras.layers import Dense, Dropout, BatchNormalization\n",
        "from tensorflow.keras.optimizers import Adam\n",
        "from tensorflow.keras.callbacks import EarlyStopping, ReduceLROnPlateau\n",
        "from sklearn.model_selection import train_test_split\n",
        "from sklearn.preprocessing import StandardScaler, LabelEncoder\n",
        "from sklearn.feature_selection import VarianceThreshold\n",
        "import matplotlib.pyplot as plt\n",
        "import time"
      ]
    },
    {
      "cell_type": "markdown",
      "source": [
        "# Chargement des données\n"
      ],
      "metadata": {
        "id": "nbqYEZyymb_H"
      }
    },
    {
      "cell_type": "code",
      "source": [
        "# Chargement des données\n",
        "train_data = pd.read_csv(\"train.csv\")\n",
        "test_data = pd.read_csv(\"test.csv\")\n",
        "\n",
        "print(\"✅ Données chargées avec succès\")\n",
        "print(f\"Train shape: {train_data.shape}, Test shape: {test_data.shape}\")\n"
      ],
      "metadata": {
        "colab": {
          "base_uri": "https://localhost:8080/"
        },
        "id": "CAeMO7rJmeiz",
        "outputId": "c0c9e4b4-dbe1-4e84-ebf4-e35483daedbd"
      },
      "execution_count": 17,
      "outputs": [
        {
          "output_type": "stream",
          "name": "stdout",
          "text": [
            "✅ Données chargées avec succès\n",
            "Train shape: (7352, 563), Test shape: (2947, 563)\n"
          ]
        }
      ]
    },
    {
      "cell_type": "markdown",
      "source": [
        "# Suppression de la colonne 'subject'"
      ],
      "metadata": {
        "id": "Zx2JpRgymy_N"
      }
    },
    {
      "cell_type": "code",
      "source": [
        "# Suppression de la colonne 'subject'\n",
        "train_data.drop(columns=['subject'], inplace=True, errors='ignore')\n",
        "test_data.drop(columns=['subject'], inplace=True, errors='ignore')\n",
        "\n",
        "print(\"\\n✅ Nettoyage terminé\")\n",
        "print(f\"Nouvelles dimensions - Train: {train_data.shape}, Test: {test_data.shape}\")\n"
      ],
      "metadata": {
        "colab": {
          "base_uri": "https://localhost:8080/"
        },
        "id": "0LCXVnpim6zg",
        "outputId": "784db28c-dd65-4160-fb95-e560e9280138"
      },
      "execution_count": 18,
      "outputs": [
        {
          "output_type": "stream",
          "name": "stdout",
          "text": [
            "\n",
            "✅ Nettoyage terminé\n",
            "Nouvelles dimensions - Train: (7352, 562), Test: (2947, 562)\n"
          ]
        }
      ]
    },
    {
      "cell_type": "markdown",
      "source": [
        "# Sélection des features avec variance > 0.1\n",
        "\n"
      ],
      "metadata": {
        "id": "HFE6QFoxnNqj"
      }
    },
    {
      "cell_type": "code",
      "source": [
        "# Sélection des features avec variance > 0.1\n",
        "selector = VarianceThreshold(threshold=0.1)\n",
        "X_train = selector.fit_transform(train_data.drop(columns=['Activity']))\n",
        "X_test = selector.transform(test_data.drop(columns=['Activity']))\n",
        "\n",
        "print(\"\\n✅ Sélection de features terminée\")\n",
        "print(f\"X_train shape: {X_train.shape}, X_test shape: {X_test.shape}\")"
      ],
      "metadata": {
        "colab": {
          "base_uri": "https://localhost:8080/"
        },
        "id": "jlsPlBt3nR8c",
        "outputId": "dec3597c-e4ea-4820-9f99-1b338adb2520"
      },
      "execution_count": 19,
      "outputs": [
        {
          "output_type": "stream",
          "name": "stdout",
          "text": [
            "\n",
            "✅ Sélection de features terminée\n",
            "X_train shape: (7352, 189), X_test shape: (2947, 189)\n"
          ]
        }
      ]
    },
    {
      "cell_type": "markdown",
      "source": [
        "# ENCODAGE DES LABELS\n"
      ],
      "metadata": {
        "id": "T08ETxuVn9DE"
      }
    },
    {
      "cell_type": "code",
      "source": [
        "# ENCODAGE DES LABELS\n",
        "label_encoder = LabelEncoder()\n",
        "y_train = label_encoder.fit_transform(train_data['Activity'])\n",
        "y_test = label_encoder.transform(test_data['Activity'])\n",
        "\n",
        "print(\"\\n✅ Encodage des labels terminé\")\n",
        "print(\"Exemple de labels:\", y_train[:5])"
      ],
      "metadata": {
        "colab": {
          "base_uri": "https://localhost:8080/"
        },
        "id": "fhPLGdgvn_Yl",
        "outputId": "40a55b7d-fa18-4345-be1e-04f489cae610"
      },
      "execution_count": 20,
      "outputs": [
        {
          "output_type": "stream",
          "name": "stdout",
          "text": [
            "\n",
            "✅ Encodage des labels terminé\n",
            "Exemple de labels: [2 2 2 2 2]\n"
          ]
        }
      ]
    },
    {
      "cell_type": "markdown",
      "source": [
        "NORMALISATION DES DONNÉES\n"
      ],
      "metadata": {
        "id": "OmsTaXB2oRDw"
      }
    },
    {
      "cell_type": "code",
      "source": [
        "# NORMALISATION DES DONNÉES\n",
        "scaler = StandardScaler()\n",
        "X_train = scaler.fit_transform(X_train)\n",
        "X_test = scaler.transform(X_test)\n",
        "\n",
        "print(\"\\n✅ Normalisation terminée\")\n",
        "print(\"Moyenne (train):\", np.mean(X_train), \"Écart-type (train):\", np.std(X_train))\n"
      ],
      "metadata": {
        "colab": {
          "base_uri": "https://localhost:8080/"
        },
        "id": "0chmn4HeoT11",
        "outputId": "13ed2d83-ecf9-4088-de7f-e2856cc21a6f"
      },
      "execution_count": 21,
      "outputs": [
        {
          "output_type": "stream",
          "name": "stdout",
          "text": [
            "\n",
            "✅ Normalisation terminée\n",
            "Moyenne (train): 1.963604983360382e-18 Écart-type (train): 0.9999999999999998\n"
          ]
        }
      ]
    },
    {
      "cell_type": "markdown",
      "source": [
        "# DIVISION ENTRAÎNEMENT/VALIDATION\n"
      ],
      "metadata": {
        "id": "FOoB-dy5oZS_"
      }
    },
    {
      "cell_type": "code",
      "source": [
        "# DIVISION ENTRAÎNEMENT/VALIDATION\n",
        "X_train, X_val, y_train, y_val = train_test_split(\n",
        "    X_train, y_train,\n",
        "    test_size=0.2,\n",
        "    random_state=42,\n",
        "    stratify=y_train\n",
        ")\n",
        "\n",
        "print(\"\\n✅ Division train/val effectuée\")\n",
        "print(f\"X_train: {X_train.shape}, X_val: {X_val.shape}\")"
      ],
      "metadata": {
        "colab": {
          "base_uri": "https://localhost:8080/"
        },
        "id": "fBDYFgyCodj4",
        "outputId": "fe3bd13e-0b3b-4976-889d-3671ddeed7fe"
      },
      "execution_count": 22,
      "outputs": [
        {
          "output_type": "stream",
          "name": "stdout",
          "text": [
            "\n",
            "✅ Division train/val effectuée\n",
            "X_train: (5881, 189), X_val: (1471, 189)\n"
          ]
        }
      ]
    },
    {
      "cell_type": "markdown",
      "source": [
        "# ARCHITECTURE DU MODÈLE (Question 2.1.1)\n"
      ],
      "metadata": {
        "id": "8qAFPF3tols5"
      }
    },
    {
      "cell_type": "code",
      "source": [
        "#  ARCHITECTURE DU MODÈLE (Question 2.1.1)\n",
        "model = Sequential([\n",
        "    Dense(1024, activation='relu', input_shape=(X_train.shape[1],)),\n",
        "    BatchNormalization(),\n",
        "    Dropout(0.5),\n",
        "\n",
        "    Dense(512, activation='relu', kernel_regularizer='l2'),\n",
        "    BatchNormalization(),\n",
        "    Dropout(0.4),\n",
        "\n",
        "    Dense(256, activation='relu'),\n",
        "    BatchNormalization(),\n",
        "\n",
        "    Dense(6, activation='softmax')\n",
        "])\n",
        "\n",
        "print(\"\\n✅ Architecture du modèle créée\")\n",
        "model.summary()"
      ],
      "metadata": {
        "colab": {
          "base_uri": "https://localhost:8080/",
          "height": 582
        },
        "id": "AE6eGUxHor_Y",
        "outputId": "980eda56-5728-4ac1-e38a-989cddc4a768"
      },
      "execution_count": 23,
      "outputs": [
        {
          "output_type": "stream",
          "name": "stdout",
          "text": [
            "\n",
            "✅ Architecture du modèle créée\n"
          ]
        },
        {
          "output_type": "stream",
          "name": "stderr",
          "text": [
            "/usr/local/lib/python3.11/dist-packages/keras/src/layers/core/dense.py:87: UserWarning: Do not pass an `input_shape`/`input_dim` argument to a layer. When using Sequential models, prefer using an `Input(shape)` object as the first layer in the model instead.\n",
            "  super().__init__(activity_regularizer=activity_regularizer, **kwargs)\n"
          ]
        },
        {
          "output_type": "display_data",
          "data": {
            "text/plain": [
              "\u001b[1mModel: \"sequential_1\"\u001b[0m\n"
            ],
            "text/html": [
              "<pre style=\"white-space:pre;overflow-x:auto;line-height:normal;font-family:Menlo,'DejaVu Sans Mono',consolas,'Courier New',monospace\"><span style=\"font-weight: bold\">Model: \"sequential_1\"</span>\n",
              "</pre>\n"
            ]
          },
          "metadata": {}
        },
        {
          "output_type": "display_data",
          "data": {
            "text/plain": [
              "┏━━━━━━━━━━━━━━━━━━━━━━━━━━━━━━━━━━━━━━┳━━━━━━━━━━━━━━━━━━━━━━━━━━━━━┳━━━━━━━━━━━━━━━━━┓\n",
              "┃\u001b[1m \u001b[0m\u001b[1mLayer (type)                        \u001b[0m\u001b[1m \u001b[0m┃\u001b[1m \u001b[0m\u001b[1mOutput Shape               \u001b[0m\u001b[1m \u001b[0m┃\u001b[1m \u001b[0m\u001b[1m        Param #\u001b[0m\u001b[1m \u001b[0m┃\n",
              "┡━━━━━━━━━━━━━━━━━━━━━━━━━━━━━━━━━━━━━━╇━━━━━━━━━━━━━━━━━━━━━━━━━━━━━╇━━━━━━━━━━━━━━━━━┩\n",
              "│ dense_4 (\u001b[38;5;33mDense\u001b[0m)                      │ (\u001b[38;5;45mNone\u001b[0m, \u001b[38;5;34m1024\u001b[0m)                │         \u001b[38;5;34m194,560\u001b[0m │\n",
              "├──────────────────────────────────────┼─────────────────────────────┼─────────────────┤\n",
              "│ batch_normalization_3                │ (\u001b[38;5;45mNone\u001b[0m, \u001b[38;5;34m1024\u001b[0m)                │           \u001b[38;5;34m4,096\u001b[0m │\n",
              "│ (\u001b[38;5;33mBatchNormalization\u001b[0m)                 │                             │                 │\n",
              "├──────────────────────────────────────┼─────────────────────────────┼─────────────────┤\n",
              "│ dropout_2 (\u001b[38;5;33mDropout\u001b[0m)                  │ (\u001b[38;5;45mNone\u001b[0m, \u001b[38;5;34m1024\u001b[0m)                │               \u001b[38;5;34m0\u001b[0m │\n",
              "├──────────────────────────────────────┼─────────────────────────────┼─────────────────┤\n",
              "│ dense_5 (\u001b[38;5;33mDense\u001b[0m)                      │ (\u001b[38;5;45mNone\u001b[0m, \u001b[38;5;34m512\u001b[0m)                 │         \u001b[38;5;34m524,800\u001b[0m │\n",
              "├──────────────────────────────────────┼─────────────────────────────┼─────────────────┤\n",
              "│ batch_normalization_4                │ (\u001b[38;5;45mNone\u001b[0m, \u001b[38;5;34m512\u001b[0m)                 │           \u001b[38;5;34m2,048\u001b[0m │\n",
              "│ (\u001b[38;5;33mBatchNormalization\u001b[0m)                 │                             │                 │\n",
              "├──────────────────────────────────────┼─────────────────────────────┼─────────────────┤\n",
              "│ dropout_3 (\u001b[38;5;33mDropout\u001b[0m)                  │ (\u001b[38;5;45mNone\u001b[0m, \u001b[38;5;34m512\u001b[0m)                 │               \u001b[38;5;34m0\u001b[0m │\n",
              "├──────────────────────────────────────┼─────────────────────────────┼─────────────────┤\n",
              "│ dense_6 (\u001b[38;5;33mDense\u001b[0m)                      │ (\u001b[38;5;45mNone\u001b[0m, \u001b[38;5;34m256\u001b[0m)                 │         \u001b[38;5;34m131,328\u001b[0m │\n",
              "├──────────────────────────────────────┼─────────────────────────────┼─────────────────┤\n",
              "│ batch_normalization_5                │ (\u001b[38;5;45mNone\u001b[0m, \u001b[38;5;34m256\u001b[0m)                 │           \u001b[38;5;34m1,024\u001b[0m │\n",
              "│ (\u001b[38;5;33mBatchNormalization\u001b[0m)                 │                             │                 │\n",
              "├──────────────────────────────────────┼─────────────────────────────┼─────────────────┤\n",
              "│ dense_7 (\u001b[38;5;33mDense\u001b[0m)                      │ (\u001b[38;5;45mNone\u001b[0m, \u001b[38;5;34m6\u001b[0m)                   │           \u001b[38;5;34m1,542\u001b[0m │\n",
              "└──────────────────────────────────────┴─────────────────────────────┴─────────────────┘\n"
            ],
            "text/html": [
              "<pre style=\"white-space:pre;overflow-x:auto;line-height:normal;font-family:Menlo,'DejaVu Sans Mono',consolas,'Courier New',monospace\">┏━━━━━━━━━━━━━━━━━━━━━━━━━━━━━━━━━━━━━━┳━━━━━━━━━━━━━━━━━━━━━━━━━━━━━┳━━━━━━━━━━━━━━━━━┓\n",
              "┃<span style=\"font-weight: bold\"> Layer (type)                         </span>┃<span style=\"font-weight: bold\"> Output Shape                </span>┃<span style=\"font-weight: bold\">         Param # </span>┃\n",
              "┡━━━━━━━━━━━━━━━━━━━━━━━━━━━━━━━━━━━━━━╇━━━━━━━━━━━━━━━━━━━━━━━━━━━━━╇━━━━━━━━━━━━━━━━━┩\n",
              "│ dense_4 (<span style=\"color: #0087ff; text-decoration-color: #0087ff\">Dense</span>)                      │ (<span style=\"color: #00d7ff; text-decoration-color: #00d7ff\">None</span>, <span style=\"color: #00af00; text-decoration-color: #00af00\">1024</span>)                │         <span style=\"color: #00af00; text-decoration-color: #00af00\">194,560</span> │\n",
              "├──────────────────────────────────────┼─────────────────────────────┼─────────────────┤\n",
              "│ batch_normalization_3                │ (<span style=\"color: #00d7ff; text-decoration-color: #00d7ff\">None</span>, <span style=\"color: #00af00; text-decoration-color: #00af00\">1024</span>)                │           <span style=\"color: #00af00; text-decoration-color: #00af00\">4,096</span> │\n",
              "│ (<span style=\"color: #0087ff; text-decoration-color: #0087ff\">BatchNormalization</span>)                 │                             │                 │\n",
              "├──────────────────────────────────────┼─────────────────────────────┼─────────────────┤\n",
              "│ dropout_2 (<span style=\"color: #0087ff; text-decoration-color: #0087ff\">Dropout</span>)                  │ (<span style=\"color: #00d7ff; text-decoration-color: #00d7ff\">None</span>, <span style=\"color: #00af00; text-decoration-color: #00af00\">1024</span>)                │               <span style=\"color: #00af00; text-decoration-color: #00af00\">0</span> │\n",
              "├──────────────────────────────────────┼─────────────────────────────┼─────────────────┤\n",
              "│ dense_5 (<span style=\"color: #0087ff; text-decoration-color: #0087ff\">Dense</span>)                      │ (<span style=\"color: #00d7ff; text-decoration-color: #00d7ff\">None</span>, <span style=\"color: #00af00; text-decoration-color: #00af00\">512</span>)                 │         <span style=\"color: #00af00; text-decoration-color: #00af00\">524,800</span> │\n",
              "├──────────────────────────────────────┼─────────────────────────────┼─────────────────┤\n",
              "│ batch_normalization_4                │ (<span style=\"color: #00d7ff; text-decoration-color: #00d7ff\">None</span>, <span style=\"color: #00af00; text-decoration-color: #00af00\">512</span>)                 │           <span style=\"color: #00af00; text-decoration-color: #00af00\">2,048</span> │\n",
              "│ (<span style=\"color: #0087ff; text-decoration-color: #0087ff\">BatchNormalization</span>)                 │                             │                 │\n",
              "├──────────────────────────────────────┼─────────────────────────────┼─────────────────┤\n",
              "│ dropout_3 (<span style=\"color: #0087ff; text-decoration-color: #0087ff\">Dropout</span>)                  │ (<span style=\"color: #00d7ff; text-decoration-color: #00d7ff\">None</span>, <span style=\"color: #00af00; text-decoration-color: #00af00\">512</span>)                 │               <span style=\"color: #00af00; text-decoration-color: #00af00\">0</span> │\n",
              "├──────────────────────────────────────┼─────────────────────────────┼─────────────────┤\n",
              "│ dense_6 (<span style=\"color: #0087ff; text-decoration-color: #0087ff\">Dense</span>)                      │ (<span style=\"color: #00d7ff; text-decoration-color: #00d7ff\">None</span>, <span style=\"color: #00af00; text-decoration-color: #00af00\">256</span>)                 │         <span style=\"color: #00af00; text-decoration-color: #00af00\">131,328</span> │\n",
              "├──────────────────────────────────────┼─────────────────────────────┼─────────────────┤\n",
              "│ batch_normalization_5                │ (<span style=\"color: #00d7ff; text-decoration-color: #00d7ff\">None</span>, <span style=\"color: #00af00; text-decoration-color: #00af00\">256</span>)                 │           <span style=\"color: #00af00; text-decoration-color: #00af00\">1,024</span> │\n",
              "│ (<span style=\"color: #0087ff; text-decoration-color: #0087ff\">BatchNormalization</span>)                 │                             │                 │\n",
              "├──────────────────────────────────────┼─────────────────────────────┼─────────────────┤\n",
              "│ dense_7 (<span style=\"color: #0087ff; text-decoration-color: #0087ff\">Dense</span>)                      │ (<span style=\"color: #00d7ff; text-decoration-color: #00d7ff\">None</span>, <span style=\"color: #00af00; text-decoration-color: #00af00\">6</span>)                   │           <span style=\"color: #00af00; text-decoration-color: #00af00\">1,542</span> │\n",
              "└──────────────────────────────────────┴─────────────────────────────┴─────────────────┘\n",
              "</pre>\n"
            ]
          },
          "metadata": {}
        },
        {
          "output_type": "display_data",
          "data": {
            "text/plain": [
              "\u001b[1m Total params: \u001b[0m\u001b[38;5;34m859,398\u001b[0m (3.28 MB)\n"
            ],
            "text/html": [
              "<pre style=\"white-space:pre;overflow-x:auto;line-height:normal;font-family:Menlo,'DejaVu Sans Mono',consolas,'Courier New',monospace\"><span style=\"font-weight: bold\"> Total params: </span><span style=\"color: #00af00; text-decoration-color: #00af00\">859,398</span> (3.28 MB)\n",
              "</pre>\n"
            ]
          },
          "metadata": {}
        },
        {
          "output_type": "display_data",
          "data": {
            "text/plain": [
              "\u001b[1m Trainable params: \u001b[0m\u001b[38;5;34m855,814\u001b[0m (3.26 MB)\n"
            ],
            "text/html": [
              "<pre style=\"white-space:pre;overflow-x:auto;line-height:normal;font-family:Menlo,'DejaVu Sans Mono',consolas,'Courier New',monospace\"><span style=\"font-weight: bold\"> Trainable params: </span><span style=\"color: #00af00; text-decoration-color: #00af00\">855,814</span> (3.26 MB)\n",
              "</pre>\n"
            ]
          },
          "metadata": {}
        },
        {
          "output_type": "display_data",
          "data": {
            "text/plain": [
              "\u001b[1m Non-trainable params: \u001b[0m\u001b[38;5;34m3,584\u001b[0m (14.00 KB)\n"
            ],
            "text/html": [
              "<pre style=\"white-space:pre;overflow-x:auto;line-height:normal;font-family:Menlo,'DejaVu Sans Mono',consolas,'Courier New',monospace\"><span style=\"font-weight: bold\"> Non-trainable params: </span><span style=\"color: #00af00; text-decoration-color: #00af00\">3,584</span> (14.00 KB)\n",
              "</pre>\n"
            ]
          },
          "metadata": {}
        }
      ]
    },
    {
      "cell_type": "markdown",
      "source": [
        "#  COMPILATION DU MODÈLE\n"
      ],
      "metadata": {
        "id": "sUGriq2pow4e"
      }
    },
    {
      "cell_type": "code",
      "source": [
        "# COMPILATION DU MODÈLE\n",
        "optimizer = Adam(learning_rate=0.001, decay=1e-5)\n",
        "model.compile(optimizer=optimizer,\n",
        "              loss='sparse_categorical_crossentropy',\n",
        "              metrics=['accuracy'])\n",
        "\n",
        "print(\"\\n✅ Modèle compilé avec succès\")"
      ],
      "metadata": {
        "colab": {
          "base_uri": "https://localhost:8080/"
        },
        "id": "YlouC0P3o4lH",
        "outputId": "3698e915-50a1-4eeb-eaf2-e3032eb58b37"
      },
      "execution_count": 24,
      "outputs": [
        {
          "output_type": "stream",
          "name": "stdout",
          "text": [
            "\n",
            "✅ Modèle compilé avec succès\n"
          ]
        },
        {
          "output_type": "stream",
          "name": "stderr",
          "text": [
            "/usr/local/lib/python3.11/dist-packages/keras/src/optimizers/base_optimizer.py:86: UserWarning: Argument `decay` is no longer supported and will be ignored.\n",
            "  warnings.warn(\n"
          ]
        }
      ]
    },
    {
      "cell_type": "markdown",
      "source": [
        "#  DÉFINITION DES CALLBACKS\n"
      ],
      "metadata": {
        "id": "_huuTm4Xo8EA"
      }
    },
    {
      "cell_type": "code",
      "source": [
        "#  DÉFINITION DES CALLBACKS\n",
        "early_stop = EarlyStopping(\n",
        "    monitor='val_accuracy',\n",
        "    patience=25,\n",
        "    mode='max',\n",
        "    restore_best_weights=True\n",
        ")\n",
        "\n",
        "reduce_lr = ReduceLROnPlateau(\n",
        "    monitor='val_loss',\n",
        "    factor=0.3,\n",
        "    patience=10,\n",
        "    min_lr=1e-7\n",
        ")\n",
        "\n",
        "print(\"\\n✅ Callbacks configurés\")"
      ],
      "metadata": {
        "colab": {
          "base_uri": "https://localhost:8080/"
        },
        "id": "VLYTlSAmpBCr",
        "outputId": "786c387c-684a-451f-e584-cad767593760"
      },
      "execution_count": 25,
      "outputs": [
        {
          "output_type": "stream",
          "name": "stdout",
          "text": [
            "\n",
            "✅ Callbacks configurés\n"
          ]
        }
      ]
    },
    {
      "cell_type": "markdown",
      "source": [
        "#  ENTRAÎNEMENT DU MODÈLE (Question 2.1.2)\n"
      ],
      "metadata": {
        "id": "vT6tpYElpEdJ"
      }
    },
    {
      "cell_type": "code",
      "source": [
        "#  ENTRAÎNEMENT DU MODÈLE (Question 2.1.2)\n",
        "start_time = time.time()\n",
        "\n",
        "history = model.fit(\n",
        "    X_train, y_train,\n",
        "    epochs=300,\n",
        "    batch_size=256,\n",
        "    validation_data=(X_val, y_val),\n",
        "    callbacks=[early_stop, reduce_lr],\n",
        "    verbose=1\n",
        ")\n",
        "\n",
        "training_time = time.time() - start_time\n",
        "\n",
        "print(\"\\n✅ Entraînement terminé\")\n",
        "print(f\"Temps total: {training_time:.2f} secondes\")"
      ],
      "metadata": {
        "colab": {
          "base_uri": "https://localhost:8080/"
        },
        "id": "Yt6XTz1epNgJ",
        "outputId": "741d0389-b7bd-4cd5-e39a-1d3a4c9292c8"
      },
      "execution_count": 26,
      "outputs": [
        {
          "output_type": "stream",
          "name": "stdout",
          "text": [
            "Epoch 1/300\n",
            "\u001b[1m23/23\u001b[0m \u001b[32m━━━━━━━━━━━━━━━━━━━━\u001b[0m\u001b[37m\u001b[0m \u001b[1m6s\u001b[0m 85ms/step - accuracy: 0.6831 - loss: 7.3160 - val_accuracy: 0.7845 - val_loss: 5.5363 - learning_rate: 0.0010\n",
            "Epoch 2/300\n",
            "\u001b[1m23/23\u001b[0m \u001b[32m━━━━━━━━━━━━━━━━━━━━\u001b[0m\u001b[37m\u001b[0m \u001b[1m2s\u001b[0m 68ms/step - accuracy: 0.9162 - loss: 4.7249 - val_accuracy: 0.8770 - val_loss: 3.4651 - learning_rate: 0.0010\n",
            "Epoch 3/300\n",
            "\u001b[1m23/23\u001b[0m \u001b[32m━━━━━━━━━━━━━━━━━━━━\u001b[0m\u001b[37m\u001b[0m \u001b[1m4s\u001b[0m 112ms/step - accuracy: 0.9435 - loss: 2.9094 - val_accuracy: 0.9463 - val_loss: 2.0759 - learning_rate: 0.0010\n",
            "Epoch 4/300\n",
            "\u001b[1m23/23\u001b[0m \u001b[32m━━━━━━━━━━━━━━━━━━━━\u001b[0m\u001b[37m\u001b[0m \u001b[1m4s\u001b[0m 55ms/step - accuracy: 0.9572 - loss: 1.7360 - val_accuracy: 0.9375 - val_loss: 1.3017 - learning_rate: 0.0010\n",
            "Epoch 5/300\n",
            "\u001b[1m23/23\u001b[0m \u001b[32m━━━━━━━━━━━━━━━━━━━━\u001b[0m\u001b[37m\u001b[0m \u001b[1m2s\u001b[0m 52ms/step - accuracy: 0.9597 - loss: 1.0544 - val_accuracy: 0.9680 - val_loss: 0.8488 - learning_rate: 0.0010\n",
            "Epoch 6/300\n",
            "\u001b[1m23/23\u001b[0m \u001b[32m━━━━━━━━━━━━━━━━━━━━\u001b[0m\u001b[37m\u001b[0m \u001b[1m1s\u001b[0m 51ms/step - accuracy: 0.9598 - loss: 0.6996 - val_accuracy: 0.8538 - val_loss: 0.7407 - learning_rate: 0.0010\n",
            "Epoch 7/300\n",
            "\u001b[1m23/23\u001b[0m \u001b[32m━━━━━━━━━━━━━━━━━━━━\u001b[0m\u001b[37m\u001b[0m \u001b[1m1s\u001b[0m 52ms/step - accuracy: 0.9476 - loss: 0.5246 - val_accuracy: 0.9606 - val_loss: 0.4777 - learning_rate: 0.0010\n",
            "Epoch 8/300\n",
            "\u001b[1m23/23\u001b[0m \u001b[32m━━━━━━━━━━━━━━━━━━━━\u001b[0m\u001b[37m\u001b[0m \u001b[1m1s\u001b[0m 49ms/step - accuracy: 0.9626 - loss: 0.3944 - val_accuracy: 0.9375 - val_loss: 0.4124 - learning_rate: 0.0010\n",
            "Epoch 9/300\n",
            "\u001b[1m23/23\u001b[0m \u001b[32m━━━━━━━━━━━━━━━━━━━━\u001b[0m\u001b[37m\u001b[0m \u001b[1m2s\u001b[0m 60ms/step - accuracy: 0.9616 - loss: 0.3265 - val_accuracy: 0.9694 - val_loss: 0.3075 - learning_rate: 0.0010\n",
            "Epoch 10/300\n",
            "\u001b[1m23/23\u001b[0m \u001b[32m━━━━━━━━━━━━━━━━━━━━\u001b[0m\u001b[37m\u001b[0m \u001b[1m3s\u001b[0m 58ms/step - accuracy: 0.9624 - loss: 0.2803 - val_accuracy: 0.9415 - val_loss: 0.3133 - learning_rate: 0.0010\n",
            "Epoch 11/300\n",
            "\u001b[1m23/23\u001b[0m \u001b[32m━━━━━━━━━━━━━━━━━━━━\u001b[0m\u001b[37m\u001b[0m \u001b[1m2s\u001b[0m 48ms/step - accuracy: 0.9697 - loss: 0.2517 - val_accuracy: 0.9735 - val_loss: 0.2522 - learning_rate: 0.0010\n",
            "Epoch 12/300\n",
            "\u001b[1m23/23\u001b[0m \u001b[32m━━━━━━━━━━━━━━━━━━━━\u001b[0m\u001b[37m\u001b[0m \u001b[1m1s\u001b[0m 51ms/step - accuracy: 0.9649 - loss: 0.2424 - val_accuracy: 0.9266 - val_loss: 0.2916 - learning_rate: 0.0010\n",
            "Epoch 13/300\n",
            "\u001b[1m23/23\u001b[0m \u001b[32m━━━━━━━━━━━━━━━━━━━━\u001b[0m\u001b[37m\u001b[0m \u001b[1m1s\u001b[0m 49ms/step - accuracy: 0.9644 - loss: 0.2379 - val_accuracy: 0.9381 - val_loss: 0.2878 - learning_rate: 0.0010\n",
            "Epoch 14/300\n",
            "\u001b[1m23/23\u001b[0m \u001b[32m━━━━━━━━━━━━━━━━━━━━\u001b[0m\u001b[37m\u001b[0m \u001b[1m1s\u001b[0m 51ms/step - accuracy: 0.9649 - loss: 0.2317 - val_accuracy: 0.9538 - val_loss: 0.2645 - learning_rate: 0.0010\n",
            "Epoch 15/300\n",
            "\u001b[1m23/23\u001b[0m \u001b[32m━━━━━━━━━━━━━━━━━━━━\u001b[0m\u001b[37m\u001b[0m \u001b[1m1s\u001b[0m 50ms/step - accuracy: 0.9691 - loss: 0.2390 - val_accuracy: 0.9762 - val_loss: 0.2172 - learning_rate: 0.0010\n",
            "Epoch 16/300\n",
            "\u001b[1m23/23\u001b[0m \u001b[32m━━━━━━━━━━━━━━━━━━━━\u001b[0m\u001b[37m\u001b[0m \u001b[1m1s\u001b[0m 49ms/step - accuracy: 0.9694 - loss: 0.2195 - val_accuracy: 0.9708 - val_loss: 0.2179 - learning_rate: 0.0010\n",
            "Epoch 17/300\n",
            "\u001b[1m23/23\u001b[0m \u001b[32m━━━━━━━━━━━━━━━━━━━━\u001b[0m\u001b[37m\u001b[0m \u001b[1m2s\u001b[0m 76ms/step - accuracy: 0.9687 - loss: 0.2121 - val_accuracy: 0.9789 - val_loss: 0.2029 - learning_rate: 0.0010\n",
            "Epoch 18/300\n",
            "\u001b[1m23/23\u001b[0m \u001b[32m━━━━━━━━━━━━━━━━━━━━\u001b[0m\u001b[37m\u001b[0m \u001b[1m2s\u001b[0m 51ms/step - accuracy: 0.9721 - loss: 0.2038 - val_accuracy: 0.9680 - val_loss: 0.2201 - learning_rate: 0.0010\n",
            "Epoch 19/300\n",
            "\u001b[1m23/23\u001b[0m \u001b[32m━━━━━━━━━━━━━━━━━━━━\u001b[0m\u001b[37m\u001b[0m \u001b[1m1s\u001b[0m 49ms/step - accuracy: 0.9757 - loss: 0.2022 - val_accuracy: 0.9762 - val_loss: 0.2017 - learning_rate: 0.0010\n",
            "Epoch 20/300\n",
            "\u001b[1m23/23\u001b[0m \u001b[32m━━━━━━━━━━━━━━━━━━━━\u001b[0m\u001b[37m\u001b[0m \u001b[1m1s\u001b[0m 50ms/step - accuracy: 0.9675 - loss: 0.2218 - val_accuracy: 0.9701 - val_loss: 0.2071 - learning_rate: 0.0010\n",
            "Epoch 21/300\n",
            "\u001b[1m23/23\u001b[0m \u001b[32m━━━━━━━━━━━━━━━━━━━━\u001b[0m\u001b[37m\u001b[0m \u001b[1m1s\u001b[0m 52ms/step - accuracy: 0.9747 - loss: 0.1937 - val_accuracy: 0.9694 - val_loss: 0.2052 - learning_rate: 0.0010\n",
            "Epoch 22/300\n",
            "\u001b[1m23/23\u001b[0m \u001b[32m━━━━━━━━━━━━━━━━━━━━\u001b[0m\u001b[37m\u001b[0m \u001b[1m1s\u001b[0m 49ms/step - accuracy: 0.9681 - loss: 0.2095 - val_accuracy: 0.9708 - val_loss: 0.2168 - learning_rate: 0.0010\n",
            "Epoch 23/300\n",
            "\u001b[1m23/23\u001b[0m \u001b[32m━━━━━━━━━━━━━━━━━━━━\u001b[0m\u001b[37m\u001b[0m \u001b[1m1s\u001b[0m 49ms/step - accuracy: 0.9771 - loss: 0.1968 - val_accuracy: 0.9769 - val_loss: 0.1878 - learning_rate: 0.0010\n",
            "Epoch 24/300\n",
            "\u001b[1m23/23\u001b[0m \u001b[32m━━━━━━━━━━━━━━━━━━━━\u001b[0m\u001b[37m\u001b[0m \u001b[1m1s\u001b[0m 50ms/step - accuracy: 0.9731 - loss: 0.1895 - val_accuracy: 0.9680 - val_loss: 0.2051 - learning_rate: 0.0010\n",
            "Epoch 25/300\n",
            "\u001b[1m23/23\u001b[0m \u001b[32m━━━━━━━━━━━━━━━━━━━━\u001b[0m\u001b[37m\u001b[0m \u001b[1m1s\u001b[0m 51ms/step - accuracy: 0.9675 - loss: 0.2055 - val_accuracy: 0.9714 - val_loss: 0.2105 - learning_rate: 0.0010\n",
            "Epoch 26/300\n",
            "\u001b[1m23/23\u001b[0m \u001b[32m━━━━━━━━━━━━━━━━━━━━\u001b[0m\u001b[37m\u001b[0m \u001b[1m2s\u001b[0m 67ms/step - accuracy: 0.9720 - loss: 0.2141 - val_accuracy: 0.9585 - val_loss: 0.2344 - learning_rate: 0.0010\n",
            "Epoch 27/300\n",
            "\u001b[1m23/23\u001b[0m \u001b[32m━━━━━━━━━━━━━━━━━━━━\u001b[0m\u001b[37m\u001b[0m \u001b[1m2s\u001b[0m 77ms/step - accuracy: 0.9742 - loss: 0.2000 - val_accuracy: 0.9667 - val_loss: 0.1983 - learning_rate: 0.0010\n",
            "Epoch 28/300\n",
            "\u001b[1m23/23\u001b[0m \u001b[32m━━━━━━━━━━━━━━━━━━━━\u001b[0m\u001b[37m\u001b[0m \u001b[1m1s\u001b[0m 50ms/step - accuracy: 0.9724 - loss: 0.1833 - val_accuracy: 0.9613 - val_loss: 0.1955 - learning_rate: 0.0010\n",
            "Epoch 29/300\n",
            "\u001b[1m23/23\u001b[0m \u001b[32m━━━━━━━━━━━━━━━━━━━━\u001b[0m\u001b[37m\u001b[0m \u001b[1m1s\u001b[0m 48ms/step - accuracy: 0.9727 - loss: 0.1845 - val_accuracy: 0.9789 - val_loss: 0.1940 - learning_rate: 0.0010\n",
            "Epoch 30/300\n",
            "\u001b[1m23/23\u001b[0m \u001b[32m━━━━━━━━━━━━━━━━━━━━\u001b[0m\u001b[37m\u001b[0m \u001b[1m1s\u001b[0m 49ms/step - accuracy: 0.9686 - loss: 0.2123 - val_accuracy: 0.9782 - val_loss: 0.1877 - learning_rate: 0.0010\n",
            "Epoch 31/300\n",
            "\u001b[1m23/23\u001b[0m \u001b[32m━━━━━━━━━━━━━━━━━━━━\u001b[0m\u001b[37m\u001b[0m \u001b[1m1s\u001b[0m 53ms/step - accuracy: 0.9749 - loss: 0.1914 - val_accuracy: 0.9810 - val_loss: 0.1655 - learning_rate: 0.0010\n",
            "Epoch 32/300\n",
            "\u001b[1m23/23\u001b[0m \u001b[32m━━━━━━━━━━━━━━━━━━━━\u001b[0m\u001b[37m\u001b[0m \u001b[1m1s\u001b[0m 51ms/step - accuracy: 0.9782 - loss: 0.1759 - val_accuracy: 0.9728 - val_loss: 0.1969 - learning_rate: 0.0010\n",
            "Epoch 33/300\n",
            "\u001b[1m23/23\u001b[0m \u001b[32m━━━━━━━━━━━━━━━━━━━━\u001b[0m\u001b[37m\u001b[0m \u001b[1m1s\u001b[0m 53ms/step - accuracy: 0.9787 - loss: 0.1740 - val_accuracy: 0.9810 - val_loss: 0.1709 - learning_rate: 0.0010\n",
            "Epoch 34/300\n",
            "\u001b[1m23/23\u001b[0m \u001b[32m━━━━━━━━━━━━━━━━━━━━\u001b[0m\u001b[37m\u001b[0m \u001b[1m1s\u001b[0m 51ms/step - accuracy: 0.9710 - loss: 0.1838 - val_accuracy: 0.9789 - val_loss: 0.1717 - learning_rate: 0.0010\n",
            "Epoch 35/300\n",
            "\u001b[1m23/23\u001b[0m \u001b[32m━━━━━━━━━━━━━━━━━━━━\u001b[0m\u001b[37m\u001b[0m \u001b[1m1s\u001b[0m 52ms/step - accuracy: 0.9743 - loss: 0.1777 - val_accuracy: 0.9585 - val_loss: 0.2135 - learning_rate: 0.0010\n",
            "Epoch 36/300\n",
            "\u001b[1m23/23\u001b[0m \u001b[32m━━━━━━━━━━━━━━━━━━━━\u001b[0m\u001b[37m\u001b[0m \u001b[1m2s\u001b[0m 81ms/step - accuracy: 0.9783 - loss: 0.1761 - val_accuracy: 0.9823 - val_loss: 0.1700 - learning_rate: 0.0010\n",
            "Epoch 37/300\n",
            "\u001b[1m23/23\u001b[0m \u001b[32m━━━━━━━━━━━━━━━━━━━━\u001b[0m\u001b[37m\u001b[0m \u001b[1m2s\u001b[0m 49ms/step - accuracy: 0.9792 - loss: 0.1766 - val_accuracy: 0.9667 - val_loss: 0.2121 - learning_rate: 0.0010\n",
            "Epoch 38/300\n",
            "\u001b[1m23/23\u001b[0m \u001b[32m━━━━━━━━━━━━━━━━━━━━\u001b[0m\u001b[37m\u001b[0m \u001b[1m1s\u001b[0m 49ms/step - accuracy: 0.9774 - loss: 0.1878 - val_accuracy: 0.9517 - val_loss: 0.2313 - learning_rate: 0.0010\n",
            "Epoch 39/300\n",
            "\u001b[1m23/23\u001b[0m \u001b[32m━━━━━━━━━━━━━━━━━━━━\u001b[0m\u001b[37m\u001b[0m \u001b[1m1s\u001b[0m 50ms/step - accuracy: 0.9766 - loss: 0.1862 - val_accuracy: 0.9755 - val_loss: 0.1932 - learning_rate: 0.0010\n",
            "Epoch 40/300\n",
            "\u001b[1m23/23\u001b[0m \u001b[32m━━━━━━━━━━━━━━━━━━━━\u001b[0m\u001b[37m\u001b[0m \u001b[1m1s\u001b[0m 52ms/step - accuracy: 0.9772 - loss: 0.1879 - val_accuracy: 0.9415 - val_loss: 0.2686 - learning_rate: 0.0010\n",
            "Epoch 41/300\n",
            "\u001b[1m23/23\u001b[0m \u001b[32m━━━━━━━━━━━━━━━━━━━━\u001b[0m\u001b[37m\u001b[0m \u001b[1m1s\u001b[0m 50ms/step - accuracy: 0.9734 - loss: 0.1870 - val_accuracy: 0.9545 - val_loss: 0.2356 - learning_rate: 0.0010\n",
            "Epoch 42/300\n",
            "\u001b[1m23/23\u001b[0m \u001b[32m━━━━━━━━━━━━━━━━━━━━\u001b[0m\u001b[37m\u001b[0m \u001b[1m1s\u001b[0m 50ms/step - accuracy: 0.9767 - loss: 0.1767 - val_accuracy: 0.9850 - val_loss: 0.1468 - learning_rate: 3.0000e-04\n",
            "Epoch 43/300\n",
            "\u001b[1m23/23\u001b[0m \u001b[32m━━━━━━━━━━━━━━━━━━━━\u001b[0m\u001b[37m\u001b[0m \u001b[1m1s\u001b[0m 50ms/step - accuracy: 0.9835 - loss: 0.1454 - val_accuracy: 0.9823 - val_loss: 0.1347 - learning_rate: 3.0000e-04\n",
            "Epoch 44/300\n",
            "\u001b[1m23/23\u001b[0m \u001b[32m━━━━━━━━━━━━━━━━━━━━\u001b[0m\u001b[37m\u001b[0m \u001b[1m1s\u001b[0m 50ms/step - accuracy: 0.9879 - loss: 0.1197 - val_accuracy: 0.9823 - val_loss: 0.1214 - learning_rate: 3.0000e-04\n",
            "Epoch 45/300\n",
            "\u001b[1m23/23\u001b[0m \u001b[32m━━━━━━━━━━━━━━━━━━━━\u001b[0m\u001b[37m\u001b[0m \u001b[1m2s\u001b[0m 73ms/step - accuracy: 0.9839 - loss: 0.1100 - val_accuracy: 0.9830 - val_loss: 0.1133 - learning_rate: 3.0000e-04\n",
            "Epoch 46/300\n",
            "\u001b[1m23/23\u001b[0m \u001b[32m━━━━━━━━━━━━━━━━━━━━\u001b[0m\u001b[37m\u001b[0m \u001b[1m2s\u001b[0m 77ms/step - accuracy: 0.9907 - loss: 0.0906 - val_accuracy: 0.9857 - val_loss: 0.0949 - learning_rate: 3.0000e-04\n",
            "Epoch 47/300\n",
            "\u001b[1m23/23\u001b[0m \u001b[32m━━━━━━━━━━━━━━━━━━━━\u001b[0m\u001b[37m\u001b[0m \u001b[1m2s\u001b[0m 49ms/step - accuracy: 0.9868 - loss: 0.0905 - val_accuracy: 0.9850 - val_loss: 0.0933 - learning_rate: 3.0000e-04\n",
            "Epoch 48/300\n",
            "\u001b[1m23/23\u001b[0m \u001b[32m━━━━━━━━━━━━━━━━━━━━\u001b[0m\u001b[37m\u001b[0m \u001b[1m1s\u001b[0m 51ms/step - accuracy: 0.9877 - loss: 0.0825 - val_accuracy: 0.9803 - val_loss: 0.0979 - learning_rate: 3.0000e-04\n",
            "Epoch 49/300\n",
            "\u001b[1m23/23\u001b[0m \u001b[32m━━━━━━━━━━━━━━━━━━━━\u001b[0m\u001b[37m\u001b[0m \u001b[1m1s\u001b[0m 49ms/step - accuracy: 0.9862 - loss: 0.0836 - val_accuracy: 0.9776 - val_loss: 0.1068 - learning_rate: 3.0000e-04\n",
            "Epoch 50/300\n",
            "\u001b[1m23/23\u001b[0m \u001b[32m━━━━━━━━━━━━━━━━━━━━\u001b[0m\u001b[37m\u001b[0m \u001b[1m1s\u001b[0m 49ms/step - accuracy: 0.9903 - loss: 0.0727 - val_accuracy: 0.9850 - val_loss: 0.0842 - learning_rate: 3.0000e-04\n",
            "Epoch 51/300\n",
            "\u001b[1m23/23\u001b[0m \u001b[32m━━━━━━━━━━━━━━━━━━━━\u001b[0m\u001b[37m\u001b[0m \u001b[1m1s\u001b[0m 52ms/step - accuracy: 0.9902 - loss: 0.0697 - val_accuracy: 0.9789 - val_loss: 0.1052 - learning_rate: 3.0000e-04\n",
            "Epoch 52/300\n",
            "\u001b[1m23/23\u001b[0m \u001b[32m━━━━━━━━━━━━━━━━━━━━\u001b[0m\u001b[37m\u001b[0m \u001b[1m1s\u001b[0m 50ms/step - accuracy: 0.9890 - loss: 0.0777 - val_accuracy: 0.9803 - val_loss: 0.0959 - learning_rate: 3.0000e-04\n",
            "Epoch 53/300\n",
            "\u001b[1m23/23\u001b[0m \u001b[32m━━━━━━━━━━━━━━━━━━━━\u001b[0m\u001b[37m\u001b[0m \u001b[1m1s\u001b[0m 49ms/step - accuracy: 0.9865 - loss: 0.0766 - val_accuracy: 0.9850 - val_loss: 0.0826 - learning_rate: 3.0000e-04\n",
            "Epoch 54/300\n",
            "\u001b[1m23/23\u001b[0m \u001b[32m━━━━━━━━━━━━━━━━━━━━\u001b[0m\u001b[37m\u001b[0m \u001b[1m1s\u001b[0m 56ms/step - accuracy: 0.9917 - loss: 0.0635 - val_accuracy: 0.9844 - val_loss: 0.0758 - learning_rate: 3.0000e-04\n",
            "Epoch 55/300\n",
            "\u001b[1m23/23\u001b[0m \u001b[32m━━━━━━━━━━━━━━━━━━━━\u001b[0m\u001b[37m\u001b[0m \u001b[1m3s\u001b[0m 53ms/step - accuracy: 0.9869 - loss: 0.0673 - val_accuracy: 0.9850 - val_loss: 0.0778 - learning_rate: 3.0000e-04\n",
            "Epoch 56/300\n",
            "\u001b[1m23/23\u001b[0m \u001b[32m━━━━━━━━━━━━━━━━━━━━\u001b[0m\u001b[37m\u001b[0m \u001b[1m1s\u001b[0m 49ms/step - accuracy: 0.9918 - loss: 0.0628 - val_accuracy: 0.9844 - val_loss: 0.0767 - learning_rate: 3.0000e-04\n",
            "Epoch 57/300\n",
            "\u001b[1m23/23\u001b[0m \u001b[32m━━━━━━━━━━━━━━━━━━━━\u001b[0m\u001b[37m\u001b[0m \u001b[1m1s\u001b[0m 49ms/step - accuracy: 0.9917 - loss: 0.0620 - val_accuracy: 0.9864 - val_loss: 0.0698 - learning_rate: 3.0000e-04\n",
            "Epoch 58/300\n",
            "\u001b[1m23/23\u001b[0m \u001b[32m━━━━━━━━━━━━━━━━━━━━\u001b[0m\u001b[37m\u001b[0m \u001b[1m1s\u001b[0m 53ms/step - accuracy: 0.9911 - loss: 0.0627 - val_accuracy: 0.9864 - val_loss: 0.0700 - learning_rate: 3.0000e-04\n",
            "Epoch 59/300\n",
            "\u001b[1m23/23\u001b[0m \u001b[32m━━━━━━━━━━━━━━━━━━━━\u001b[0m\u001b[37m\u001b[0m \u001b[1m1s\u001b[0m 48ms/step - accuracy: 0.9876 - loss: 0.0678 - val_accuracy: 0.9864 - val_loss: 0.0744 - learning_rate: 3.0000e-04\n",
            "Epoch 60/300\n",
            "\u001b[1m23/23\u001b[0m \u001b[32m━━━━━━━━━━━━━━━━━━━━\u001b[0m\u001b[37m\u001b[0m \u001b[1m1s\u001b[0m 49ms/step - accuracy: 0.9891 - loss: 0.0655 - val_accuracy: 0.9884 - val_loss: 0.0674 - learning_rate: 3.0000e-04\n",
            "Epoch 61/300\n",
            "\u001b[1m23/23\u001b[0m \u001b[32m━━━━━━━━━━━━━━━━━━━━\u001b[0m\u001b[37m\u001b[0m \u001b[1m1s\u001b[0m 53ms/step - accuracy: 0.9911 - loss: 0.0617 - val_accuracy: 0.9871 - val_loss: 0.0749 - learning_rate: 3.0000e-04\n",
            "Epoch 62/300\n",
            "\u001b[1m23/23\u001b[0m \u001b[32m━━━━━━━━━━━━━━━━━━━━\u001b[0m\u001b[37m\u001b[0m \u001b[1m1s\u001b[0m 49ms/step - accuracy: 0.9904 - loss: 0.0628 - val_accuracy: 0.9830 - val_loss: 0.0762 - learning_rate: 3.0000e-04\n",
            "Epoch 63/300\n",
            "\u001b[1m23/23\u001b[0m \u001b[32m━━━━━━━━━━━━━━━━━━━━\u001b[0m\u001b[37m\u001b[0m \u001b[1m2s\u001b[0m 64ms/step - accuracy: 0.9903 - loss: 0.0591 - val_accuracy: 0.9837 - val_loss: 0.0759 - learning_rate: 3.0000e-04\n",
            "Epoch 64/300\n",
            "\u001b[1m23/23\u001b[0m \u001b[32m━━━━━━━━━━━━━━━━━━━━\u001b[0m\u001b[37m\u001b[0m \u001b[1m2s\u001b[0m 78ms/step - accuracy: 0.9908 - loss: 0.0587 - val_accuracy: 0.9837 - val_loss: 0.0738 - learning_rate: 3.0000e-04\n",
            "Epoch 65/300\n",
            "\u001b[1m23/23\u001b[0m \u001b[32m━━━━━━━━━━━━━━━━━━━━\u001b[0m\u001b[37m\u001b[0m \u001b[1m2s\u001b[0m 49ms/step - accuracy: 0.9887 - loss: 0.0618 - val_accuracy: 0.9810 - val_loss: 0.0850 - learning_rate: 3.0000e-04\n",
            "Epoch 66/300\n",
            "\u001b[1m23/23\u001b[0m \u001b[32m━━━━━━━━━━━━━━━━━━━━\u001b[0m\u001b[37m\u001b[0m \u001b[1m1s\u001b[0m 50ms/step - accuracy: 0.9902 - loss: 0.0641 - val_accuracy: 0.9708 - val_loss: 0.1195 - learning_rate: 3.0000e-04\n",
            "Epoch 67/300\n",
            "\u001b[1m23/23\u001b[0m \u001b[32m━━━━━━━━━━━━━━━━━━━━\u001b[0m\u001b[37m\u001b[0m \u001b[1m1s\u001b[0m 48ms/step - accuracy: 0.9866 - loss: 0.0702 - val_accuracy: 0.9803 - val_loss: 0.0897 - learning_rate: 3.0000e-04\n",
            "Epoch 68/300\n",
            "\u001b[1m23/23\u001b[0m \u001b[32m━━━━━━━━━━━━━━━━━━━━\u001b[0m\u001b[37m\u001b[0m \u001b[1m1s\u001b[0m 51ms/step - accuracy: 0.9909 - loss: 0.0656 - val_accuracy: 0.9884 - val_loss: 0.0750 - learning_rate: 3.0000e-04\n",
            "Epoch 69/300\n",
            "\u001b[1m23/23\u001b[0m \u001b[32m━━━━━━━━━━━━━━━━━━━━\u001b[0m\u001b[37m\u001b[0m \u001b[1m1s\u001b[0m 50ms/step - accuracy: 0.9933 - loss: 0.0613 - val_accuracy: 0.9830 - val_loss: 0.0875 - learning_rate: 3.0000e-04\n",
            "Epoch 70/300\n",
            "\u001b[1m23/23\u001b[0m \u001b[32m━━━━━━━━━━━━━━━━━━━━\u001b[0m\u001b[37m\u001b[0m \u001b[1m1s\u001b[0m 49ms/step - accuracy: 0.9901 - loss: 0.0710 - val_accuracy: 0.9844 - val_loss: 0.0832 - learning_rate: 3.0000e-04\n",
            "Epoch 71/300\n",
            "\u001b[1m23/23\u001b[0m \u001b[32m━━━━━━━━━━━━━━━━━━━━\u001b[0m\u001b[37m\u001b[0m \u001b[1m1s\u001b[0m 49ms/step - accuracy: 0.9914 - loss: 0.0643 - val_accuracy: 0.9891 - val_loss: 0.0722 - learning_rate: 9.0000e-05\n",
            "Epoch 72/300\n",
            "\u001b[1m23/23\u001b[0m \u001b[32m━━━━━━━━━━━━━━━━━━━━\u001b[0m\u001b[37m\u001b[0m \u001b[1m1s\u001b[0m 54ms/step - accuracy: 0.9943 - loss: 0.0558 - val_accuracy: 0.9891 - val_loss: 0.0698 - learning_rate: 9.0000e-05\n",
            "Epoch 73/300\n",
            "\u001b[1m23/23\u001b[0m \u001b[32m━━━━━━━━━━━━━━━━━━━━\u001b[0m\u001b[37m\u001b[0m \u001b[1m2s\u001b[0m 80ms/step - accuracy: 0.9959 - loss: 0.0493 - val_accuracy: 0.9878 - val_loss: 0.0704 - learning_rate: 9.0000e-05\n",
            "Epoch 74/300\n",
            "\u001b[1m23/23\u001b[0m \u001b[32m━━━━━━━━━━━━━━━━━━━━\u001b[0m\u001b[37m\u001b[0m \u001b[1m1s\u001b[0m 60ms/step - accuracy: 0.9941 - loss: 0.0509 - val_accuracy: 0.9891 - val_loss: 0.0654 - learning_rate: 9.0000e-05\n",
            "Epoch 75/300\n",
            "\u001b[1m23/23\u001b[0m \u001b[32m━━━━━━━━━━━━━━━━━━━━\u001b[0m\u001b[37m\u001b[0m \u001b[1m2s\u001b[0m 49ms/step - accuracy: 0.9926 - loss: 0.0523 - val_accuracy: 0.9891 - val_loss: 0.0648 - learning_rate: 9.0000e-05\n",
            "Epoch 76/300\n",
            "\u001b[1m23/23\u001b[0m \u001b[32m━━━━━━━━━━━━━━━━━━━━\u001b[0m\u001b[37m\u001b[0m \u001b[1m1s\u001b[0m 48ms/step - accuracy: 0.9954 - loss: 0.0433 - val_accuracy: 0.9878 - val_loss: 0.0647 - learning_rate: 9.0000e-05\n",
            "Epoch 77/300\n",
            "\u001b[1m23/23\u001b[0m \u001b[32m━━━━━━━━━━━━━━━━━━━━\u001b[0m\u001b[37m\u001b[0m \u001b[1m1s\u001b[0m 50ms/step - accuracy: 0.9971 - loss: 0.0396 - val_accuracy: 0.9871 - val_loss: 0.0647 - learning_rate: 9.0000e-05\n",
            "Epoch 78/300\n",
            "\u001b[1m23/23\u001b[0m \u001b[32m━━━━━━━━━━━━━━━━━━━━\u001b[0m\u001b[37m\u001b[0m \u001b[1m1s\u001b[0m 53ms/step - accuracy: 0.9942 - loss: 0.0448 - val_accuracy: 0.9878 - val_loss: 0.0587 - learning_rate: 9.0000e-05\n",
            "Epoch 79/300\n",
            "\u001b[1m23/23\u001b[0m \u001b[32m━━━━━━━━━━━━━━━━━━━━\u001b[0m\u001b[37m\u001b[0m \u001b[1m1s\u001b[0m 52ms/step - accuracy: 0.9957 - loss: 0.0407 - val_accuracy: 0.9898 - val_loss: 0.0577 - learning_rate: 9.0000e-05\n",
            "Epoch 80/300\n",
            "\u001b[1m23/23\u001b[0m \u001b[32m━━━━━━━━━━━━━━━━━━━━\u001b[0m\u001b[37m\u001b[0m \u001b[1m1s\u001b[0m 52ms/step - accuracy: 0.9956 - loss: 0.0377 - val_accuracy: 0.9891 - val_loss: 0.0581 - learning_rate: 9.0000e-05\n",
            "Epoch 81/300\n",
            "\u001b[1m23/23\u001b[0m \u001b[32m━━━━━━━━━━━━━━━━━━━━\u001b[0m\u001b[37m\u001b[0m \u001b[1m1s\u001b[0m 59ms/step - accuracy: 0.9956 - loss: 0.0354 - val_accuracy: 0.9857 - val_loss: 0.0649 - learning_rate: 9.0000e-05\n",
            "Epoch 82/300\n",
            "\u001b[1m23/23\u001b[0m \u001b[32m━━━━━━━━━━━━━━━━━━━━\u001b[0m\u001b[37m\u001b[0m \u001b[1m2s\u001b[0m 82ms/step - accuracy: 0.9971 - loss: 0.0332 - val_accuracy: 0.9878 - val_loss: 0.0576 - learning_rate: 9.0000e-05\n",
            "Epoch 83/300\n",
            "\u001b[1m23/23\u001b[0m \u001b[32m━━━━━━━━━━━━━━━━━━━━\u001b[0m\u001b[37m\u001b[0m \u001b[1m2s\u001b[0m 49ms/step - accuracy: 0.9974 - loss: 0.0310 - val_accuracy: 0.9871 - val_loss: 0.0563 - learning_rate: 9.0000e-05\n",
            "Epoch 84/300\n",
            "\u001b[1m23/23\u001b[0m \u001b[32m━━━━━━━━━━━━━━━━━━━━\u001b[0m\u001b[37m\u001b[0m \u001b[1m1s\u001b[0m 50ms/step - accuracy: 0.9981 - loss: 0.0283 - val_accuracy: 0.9871 - val_loss: 0.0565 - learning_rate: 9.0000e-05\n",
            "Epoch 85/300\n",
            "\u001b[1m23/23\u001b[0m \u001b[32m━━━━━━━━━━━━━━━━━━━━\u001b[0m\u001b[37m\u001b[0m \u001b[1m1s\u001b[0m 50ms/step - accuracy: 0.9975 - loss: 0.0275 - val_accuracy: 0.9891 - val_loss: 0.0529 - learning_rate: 9.0000e-05\n",
            "Epoch 86/300\n",
            "\u001b[1m23/23\u001b[0m \u001b[32m━━━━━━━━━━━━━━━━━━━━\u001b[0m\u001b[37m\u001b[0m \u001b[1m1s\u001b[0m 49ms/step - accuracy: 0.9956 - loss: 0.0286 - val_accuracy: 0.9891 - val_loss: 0.0522 - learning_rate: 9.0000e-05\n",
            "Epoch 87/300\n",
            "\u001b[1m23/23\u001b[0m \u001b[32m━━━━━━━━━━━━━━━━━━━━\u001b[0m\u001b[37m\u001b[0m \u001b[1m1s\u001b[0m 53ms/step - accuracy: 0.9963 - loss: 0.0280 - val_accuracy: 0.9898 - val_loss: 0.0487 - learning_rate: 9.0000e-05\n",
            "Epoch 88/300\n",
            "\u001b[1m23/23\u001b[0m \u001b[32m━━━━━━━━━━━━━━━━━━━━\u001b[0m\u001b[37m\u001b[0m \u001b[1m1s\u001b[0m 49ms/step - accuracy: 0.9970 - loss: 0.0256 - val_accuracy: 0.9884 - val_loss: 0.0530 - learning_rate: 9.0000e-05\n",
            "Epoch 89/300\n",
            "\u001b[1m23/23\u001b[0m \u001b[32m━━━━━━━━━━━━━━━━━━━━\u001b[0m\u001b[37m\u001b[0m \u001b[1m1s\u001b[0m 52ms/step - accuracy: 0.9972 - loss: 0.0253 - val_accuracy: 0.9891 - val_loss: 0.0491 - learning_rate: 9.0000e-05\n",
            "Epoch 90/300\n",
            "\u001b[1m23/23\u001b[0m \u001b[32m━━━━━━━━━━━━━━━━━━━━\u001b[0m\u001b[37m\u001b[0m \u001b[1m1s\u001b[0m 53ms/step - accuracy: 0.9970 - loss: 0.0269 - val_accuracy: 0.9871 - val_loss: 0.0550 - learning_rate: 9.0000e-05\n",
            "Epoch 91/300\n",
            "\u001b[1m23/23\u001b[0m \u001b[32m━━━━━━━━━━━━━━━━━━━━\u001b[0m\u001b[37m\u001b[0m \u001b[1m2s\u001b[0m 80ms/step - accuracy: 0.9969 - loss: 0.0258 - val_accuracy: 0.9898 - val_loss: 0.0458 - learning_rate: 9.0000e-05\n",
            "Epoch 92/300\n",
            "\u001b[1m23/23\u001b[0m \u001b[32m━━━━━━━━━━━━━━━━━━━━\u001b[0m\u001b[37m\u001b[0m \u001b[1m2s\u001b[0m 66ms/step - accuracy: 0.9947 - loss: 0.0300 - val_accuracy: 0.9891 - val_loss: 0.0497 - learning_rate: 9.0000e-05\n",
            "Epoch 93/300\n",
            "\u001b[1m23/23\u001b[0m \u001b[32m━━━━━━━━━━━━━━━━━━━━\u001b[0m\u001b[37m\u001b[0m \u001b[1m2s\u001b[0m 50ms/step - accuracy: 0.9975 - loss: 0.0244 - val_accuracy: 0.9884 - val_loss: 0.0481 - learning_rate: 9.0000e-05\n",
            "Epoch 94/300\n",
            "\u001b[1m23/23\u001b[0m \u001b[32m━━━━━━━━━━━━━━━━━━━━\u001b[0m\u001b[37m\u001b[0m \u001b[1m1s\u001b[0m 50ms/step - accuracy: 0.9962 - loss: 0.0259 - val_accuracy: 0.9898 - val_loss: 0.0464 - learning_rate: 9.0000e-05\n",
            "Epoch 95/300\n",
            "\u001b[1m23/23\u001b[0m \u001b[32m━━━━━━━━━━━━━━━━━━━━\u001b[0m\u001b[37m\u001b[0m \u001b[1m1s\u001b[0m 49ms/step - accuracy: 0.9971 - loss: 0.0231 - val_accuracy: 0.9898 - val_loss: 0.0485 - learning_rate: 9.0000e-05\n",
            "Epoch 96/300\n",
            "\u001b[1m23/23\u001b[0m \u001b[32m━━━━━━━━━━━━━━━━━━━━\u001b[0m\u001b[37m\u001b[0m \u001b[1m1s\u001b[0m 49ms/step - accuracy: 0.9954 - loss: 0.0267 - val_accuracy: 0.9898 - val_loss: 0.0483 - learning_rate: 9.0000e-05\n",
            "Epoch 97/300\n",
            "\u001b[1m23/23\u001b[0m \u001b[32m━━━━━━━━━━━━━━━━━━━━\u001b[0m\u001b[37m\u001b[0m \u001b[1m1s\u001b[0m 54ms/step - accuracy: 0.9984 - loss: 0.0236 - val_accuracy: 0.9898 - val_loss: 0.0475 - learning_rate: 9.0000e-05\n",
            "Epoch 98/300\n",
            "\u001b[1m23/23\u001b[0m \u001b[32m━━━━━━━━━━━━━━━━━━━━\u001b[0m\u001b[37m\u001b[0m \u001b[1m1s\u001b[0m 52ms/step - accuracy: 0.9952 - loss: 0.0265 - val_accuracy: 0.9878 - val_loss: 0.0493 - learning_rate: 9.0000e-05\n",
            "Epoch 99/300\n",
            "\u001b[1m23/23\u001b[0m \u001b[32m━━━━━━━━━━━━━━━━━━━━\u001b[0m\u001b[37m\u001b[0m \u001b[1m1s\u001b[0m 51ms/step - accuracy: 0.9957 - loss: 0.0252 - val_accuracy: 0.9884 - val_loss: 0.0567 - learning_rate: 9.0000e-05\n",
            "Epoch 100/300\n",
            "\u001b[1m23/23\u001b[0m \u001b[32m━━━━━━━━━━━━━━━━━━━━\u001b[0m\u001b[37m\u001b[0m \u001b[1m2s\u001b[0m 80ms/step - accuracy: 0.9975 - loss: 0.0239 - val_accuracy: 0.9884 - val_loss: 0.0486 - learning_rate: 9.0000e-05\n",
            "Epoch 101/300\n",
            "\u001b[1m23/23\u001b[0m \u001b[32m━━━━━━━━━━━━━━━━━━━━\u001b[0m\u001b[37m\u001b[0m \u001b[1m2s\u001b[0m 50ms/step - accuracy: 0.9958 - loss: 0.0270 - val_accuracy: 0.9898 - val_loss: 0.0474 - learning_rate: 9.0000e-05\n",
            "Epoch 102/300\n",
            "\u001b[1m23/23\u001b[0m \u001b[32m━━━━━━━━━━━━━━━━━━━━\u001b[0m\u001b[37m\u001b[0m \u001b[1m1s\u001b[0m 53ms/step - accuracy: 0.9965 - loss: 0.0240 - val_accuracy: 0.9891 - val_loss: 0.0498 - learning_rate: 2.7000e-05\n",
            "Epoch 103/300\n",
            "\u001b[1m23/23\u001b[0m \u001b[32m━━━━━━━━━━━━━━━━━━━━\u001b[0m\u001b[37m\u001b[0m \u001b[1m1s\u001b[0m 49ms/step - accuracy: 0.9972 - loss: 0.0228 - val_accuracy: 0.9905 - val_loss: 0.0474 - learning_rate: 2.7000e-05\n",
            "Epoch 104/300\n",
            "\u001b[1m23/23\u001b[0m \u001b[32m━━━━━━━━━━━━━━━━━━━━\u001b[0m\u001b[37m\u001b[0m \u001b[1m1s\u001b[0m 50ms/step - accuracy: 0.9977 - loss: 0.0248 - val_accuracy: 0.9878 - val_loss: 0.0510 - learning_rate: 2.7000e-05\n",
            "Epoch 105/300\n",
            "\u001b[1m23/23\u001b[0m \u001b[32m━━━━━━━━━━━━━━━━━━━━\u001b[0m\u001b[37m\u001b[0m \u001b[1m1s\u001b[0m 49ms/step - accuracy: 0.9962 - loss: 0.0245 - val_accuracy: 0.9905 - val_loss: 0.0500 - learning_rate: 2.7000e-05\n",
            "Epoch 106/300\n",
            "\u001b[1m23/23\u001b[0m \u001b[32m━━━━━━━━━━━━━━━━━━━━\u001b[0m\u001b[37m\u001b[0m \u001b[1m1s\u001b[0m 50ms/step - accuracy: 0.9972 - loss: 0.0234 - val_accuracy: 0.9898 - val_loss: 0.0469 - learning_rate: 2.7000e-05\n",
            "Epoch 107/300\n",
            "\u001b[1m23/23\u001b[0m \u001b[32m━━━━━━━━━━━━━━━━━━━━\u001b[0m\u001b[37m\u001b[0m \u001b[1m1s\u001b[0m 50ms/step - accuracy: 0.9961 - loss: 0.0239 - val_accuracy: 0.9884 - val_loss: 0.0513 - learning_rate: 2.7000e-05\n",
            "Epoch 108/300\n",
            "\u001b[1m23/23\u001b[0m \u001b[32m━━━━━━━━━━━━━━━━━━━━\u001b[0m\u001b[37m\u001b[0m \u001b[1m1s\u001b[0m 54ms/step - accuracy: 0.9972 - loss: 0.0219 - val_accuracy: 0.9912 - val_loss: 0.0458 - learning_rate: 2.7000e-05\n",
            "Epoch 109/300\n",
            "\u001b[1m23/23\u001b[0m \u001b[32m━━━━━━━━━━━━━━━━━━━━\u001b[0m\u001b[37m\u001b[0m \u001b[1m2s\u001b[0m 79ms/step - accuracy: 0.9983 - loss: 0.0191 - val_accuracy: 0.9912 - val_loss: 0.0475 - learning_rate: 2.7000e-05\n",
            "Epoch 110/300\n",
            "\u001b[1m23/23\u001b[0m \u001b[32m━━━━━━━━━━━━━━━━━━━━\u001b[0m\u001b[37m\u001b[0m \u001b[1m2s\u001b[0m 72ms/step - accuracy: 0.9976 - loss: 0.0222 - val_accuracy: 0.9905 - val_loss: 0.0447 - learning_rate: 2.7000e-05\n",
            "Epoch 111/300\n",
            "\u001b[1m23/23\u001b[0m \u001b[32m━━━━━━━━━━━━━━━━━━━━\u001b[0m\u001b[37m\u001b[0m \u001b[1m1s\u001b[0m 50ms/step - accuracy: 0.9987 - loss: 0.0187 - val_accuracy: 0.9905 - val_loss: 0.0477 - learning_rate: 2.7000e-05\n",
            "Epoch 112/300\n",
            "\u001b[1m23/23\u001b[0m \u001b[32m━━━━━━━━━━━━━━━━━━━━\u001b[0m\u001b[37m\u001b[0m \u001b[1m1s\u001b[0m 56ms/step - accuracy: 0.9973 - loss: 0.0201 - val_accuracy: 0.9891 - val_loss: 0.0464 - learning_rate: 2.7000e-05\n",
            "Epoch 113/300\n",
            "\u001b[1m23/23\u001b[0m \u001b[32m━━━━━━━━━━━━━━━━━━━━\u001b[0m\u001b[37m\u001b[0m \u001b[1m2s\u001b[0m 53ms/step - accuracy: 0.9981 - loss: 0.0200 - val_accuracy: 0.9898 - val_loss: 0.0453 - learning_rate: 2.7000e-05\n",
            "Epoch 114/300\n",
            "\u001b[1m23/23\u001b[0m \u001b[32m━━━━━━━━━━━━━━━━━━━━\u001b[0m\u001b[37m\u001b[0m \u001b[1m1s\u001b[0m 50ms/step - accuracy: 0.9956 - loss: 0.0222 - val_accuracy: 0.9898 - val_loss: 0.0468 - learning_rate: 2.7000e-05\n",
            "Epoch 115/300\n",
            "\u001b[1m23/23\u001b[0m \u001b[32m━━━━━━━━━━━━━━━━━━━━\u001b[0m\u001b[37m\u001b[0m \u001b[1m1s\u001b[0m 52ms/step - accuracy: 0.9971 - loss: 0.0194 - val_accuracy: 0.9898 - val_loss: 0.0431 - learning_rate: 2.7000e-05\n",
            "Epoch 116/300\n",
            "\u001b[1m23/23\u001b[0m \u001b[32m━━━━━━━━━━━━━━━━━━━━\u001b[0m\u001b[37m\u001b[0m \u001b[1m1s\u001b[0m 49ms/step - accuracy: 0.9983 - loss: 0.0185 - val_accuracy: 0.9925 - val_loss: 0.0450 - learning_rate: 2.7000e-05\n",
            "Epoch 117/300\n",
            "\u001b[1m23/23\u001b[0m \u001b[32m━━━━━━━━━━━━━━━━━━━━\u001b[0m\u001b[37m\u001b[0m \u001b[1m1s\u001b[0m 56ms/step - accuracy: 0.9978 - loss: 0.0192 - val_accuracy: 0.9891 - val_loss: 0.0446 - learning_rate: 2.7000e-05\n",
            "Epoch 118/300\n",
            "\u001b[1m23/23\u001b[0m \u001b[32m━━━━━━━━━━━━━━━━━━━━\u001b[0m\u001b[37m\u001b[0m \u001b[1m3s\u001b[0m 55ms/step - accuracy: 0.9984 - loss: 0.0180 - val_accuracy: 0.9905 - val_loss: 0.0481 - learning_rate: 2.7000e-05\n",
            "Epoch 119/300\n",
            "\u001b[1m23/23\u001b[0m \u001b[32m━━━━━━━━━━━━━━━━━━━━\u001b[0m\u001b[37m\u001b[0m \u001b[1m2s\u001b[0m 54ms/step - accuracy: 0.9975 - loss: 0.0174 - val_accuracy: 0.9912 - val_loss: 0.0435 - learning_rate: 2.7000e-05\n",
            "Epoch 120/300\n",
            "\u001b[1m23/23\u001b[0m \u001b[32m━━━━━━━━━━━━━━━━━━━━\u001b[0m\u001b[37m\u001b[0m \u001b[1m1s\u001b[0m 50ms/step - accuracy: 0.9979 - loss: 0.0185 - val_accuracy: 0.9884 - val_loss: 0.0466 - learning_rate: 2.7000e-05\n",
            "Epoch 121/300\n",
            "\u001b[1m23/23\u001b[0m \u001b[32m━━━━━━━━━━━━━━━━━━━━\u001b[0m\u001b[37m\u001b[0m \u001b[1m1s\u001b[0m 52ms/step - accuracy: 0.9973 - loss: 0.0195 - val_accuracy: 0.9925 - val_loss: 0.0445 - learning_rate: 2.7000e-05\n",
            "Epoch 122/300\n",
            "\u001b[1m23/23\u001b[0m \u001b[32m━━━━━━━━━━━━━━━━━━━━\u001b[0m\u001b[37m\u001b[0m \u001b[1m1s\u001b[0m 50ms/step - accuracy: 0.9970 - loss: 0.0198 - val_accuracy: 0.9898 - val_loss: 0.0492 - learning_rate: 2.7000e-05\n",
            "Epoch 123/300\n",
            "\u001b[1m23/23\u001b[0m \u001b[32m━━━━━━━━━━━━━━━━━━━━\u001b[0m\u001b[37m\u001b[0m \u001b[1m1s\u001b[0m 53ms/step - accuracy: 0.9978 - loss: 0.0173 - val_accuracy: 0.9905 - val_loss: 0.0438 - learning_rate: 2.7000e-05\n",
            "Epoch 124/300\n",
            "\u001b[1m23/23\u001b[0m \u001b[32m━━━━━━━━━━━━━━━━━━━━\u001b[0m\u001b[37m\u001b[0m \u001b[1m1s\u001b[0m 52ms/step - accuracy: 0.9976 - loss: 0.0183 - val_accuracy: 0.9905 - val_loss: 0.0456 - learning_rate: 2.7000e-05\n",
            "Epoch 125/300\n",
            "\u001b[1m23/23\u001b[0m \u001b[32m━━━━━━━━━━━━━━━━━━━━\u001b[0m\u001b[37m\u001b[0m \u001b[1m2s\u001b[0m 74ms/step - accuracy: 0.9988 - loss: 0.0155 - val_accuracy: 0.9912 - val_loss: 0.0433 - learning_rate: 2.7000e-05\n",
            "Epoch 126/300\n",
            "\u001b[1m23/23\u001b[0m \u001b[32m━━━━━━━━━━━━━━━━━━━━\u001b[0m\u001b[37m\u001b[0m \u001b[1m2s\u001b[0m 80ms/step - accuracy: 0.9985 - loss: 0.0162 - val_accuracy: 0.9932 - val_loss: 0.0423 - learning_rate: 8.1000e-06\n",
            "Epoch 127/300\n",
            "\u001b[1m23/23\u001b[0m \u001b[32m━━━━━━━━━━━━━━━━━━━━\u001b[0m\u001b[37m\u001b[0m \u001b[1m2s\u001b[0m 53ms/step - accuracy: 0.9984 - loss: 0.0166 - val_accuracy: 0.9918 - val_loss: 0.0430 - learning_rate: 8.1000e-06\n",
            "Epoch 128/300\n",
            "\u001b[1m23/23\u001b[0m \u001b[32m━━━━━━━━━━━━━━━━━━━━\u001b[0m\u001b[37m\u001b[0m \u001b[1m1s\u001b[0m 54ms/step - accuracy: 0.9988 - loss: 0.0144 - val_accuracy: 0.9918 - val_loss: 0.0429 - learning_rate: 8.1000e-06\n",
            "Epoch 129/300\n",
            "\u001b[1m23/23\u001b[0m \u001b[32m━━━━━━━━━━━━━━━━━━━━\u001b[0m\u001b[37m\u001b[0m \u001b[1m1s\u001b[0m 53ms/step - accuracy: 0.9987 - loss: 0.0155 - val_accuracy: 0.9912 - val_loss: 0.0451 - learning_rate: 8.1000e-06\n",
            "Epoch 130/300\n",
            "\u001b[1m23/23\u001b[0m \u001b[32m━━━━━━━━━━━━━━━━━━━━\u001b[0m\u001b[37m\u001b[0m \u001b[1m1s\u001b[0m 50ms/step - accuracy: 0.9979 - loss: 0.0170 - val_accuracy: 0.9918 - val_loss: 0.0433 - learning_rate: 8.1000e-06\n",
            "Epoch 131/300\n",
            "\u001b[1m23/23\u001b[0m \u001b[32m━━━━━━━━━━━━━━━━━━━━\u001b[0m\u001b[37m\u001b[0m \u001b[1m1s\u001b[0m 51ms/step - accuracy: 0.9975 - loss: 0.0179 - val_accuracy: 0.9912 - val_loss: 0.0443 - learning_rate: 8.1000e-06\n",
            "Epoch 132/300\n",
            "\u001b[1m23/23\u001b[0m \u001b[32m━━━━━━━━━━━━━━━━━━━━\u001b[0m\u001b[37m\u001b[0m \u001b[1m1s\u001b[0m 50ms/step - accuracy: 0.9995 - loss: 0.0145 - val_accuracy: 0.9912 - val_loss: 0.0446 - learning_rate: 8.1000e-06\n",
            "Epoch 133/300\n",
            "\u001b[1m23/23\u001b[0m \u001b[32m━━━━━━━━━━━━━━━━━━━━\u001b[0m\u001b[37m\u001b[0m \u001b[1m1s\u001b[0m 50ms/step - accuracy: 0.9977 - loss: 0.0159 - val_accuracy: 0.9905 - val_loss: 0.0436 - learning_rate: 8.1000e-06\n",
            "Epoch 134/300\n",
            "\u001b[1m23/23\u001b[0m \u001b[32m━━━━━━━━━━━━━━━━━━━━\u001b[0m\u001b[37m\u001b[0m \u001b[1m2s\u001b[0m 69ms/step - accuracy: 0.9981 - loss: 0.0157 - val_accuracy: 0.9912 - val_loss: 0.0427 - learning_rate: 8.1000e-06\n",
            "Epoch 135/300\n",
            "\u001b[1m23/23\u001b[0m \u001b[32m━━━━━━━━━━━━━━━━━━━━\u001b[0m\u001b[37m\u001b[0m \u001b[1m2s\u001b[0m 81ms/step - accuracy: 0.9976 - loss: 0.0164 - val_accuracy: 0.9918 - val_loss: 0.0427 - learning_rate: 8.1000e-06\n",
            "Epoch 136/300\n",
            "\u001b[1m23/23\u001b[0m \u001b[32m━━━━━━━━━━━━━━━━━━━━\u001b[0m\u001b[37m\u001b[0m \u001b[1m1s\u001b[0m 50ms/step - accuracy: 0.9980 - loss: 0.0155 - val_accuracy: 0.9932 - val_loss: 0.0417 - learning_rate: 8.1000e-06\n",
            "Epoch 137/300\n",
            "\u001b[1m23/23\u001b[0m \u001b[32m━━━━━━━━━━━━━━━━━━━━\u001b[0m\u001b[37m\u001b[0m \u001b[1m1s\u001b[0m 50ms/step - accuracy: 0.9991 - loss: 0.0141 - val_accuracy: 0.9918 - val_loss: 0.0425 - learning_rate: 8.1000e-06\n",
            "Epoch 138/300\n",
            "\u001b[1m23/23\u001b[0m \u001b[32m━━━━━━━━━━━━━━━━━━━━\u001b[0m\u001b[37m\u001b[0m \u001b[1m1s\u001b[0m 53ms/step - accuracy: 0.9984 - loss: 0.0145 - val_accuracy: 0.9912 - val_loss: 0.0438 - learning_rate: 8.1000e-06\n",
            "Epoch 139/300\n",
            "\u001b[1m23/23\u001b[0m \u001b[32m━━━━━━━━━━━━━━━━━━━━\u001b[0m\u001b[37m\u001b[0m \u001b[1m1s\u001b[0m 49ms/step - accuracy: 0.9997 - loss: 0.0131 - val_accuracy: 0.9905 - val_loss: 0.0443 - learning_rate: 8.1000e-06\n",
            "Epoch 140/300\n",
            "\u001b[1m23/23\u001b[0m \u001b[32m━━━━━━━━━━━━━━━━━━━━\u001b[0m\u001b[37m\u001b[0m \u001b[1m1s\u001b[0m 54ms/step - accuracy: 0.9991 - loss: 0.0149 - val_accuracy: 0.9905 - val_loss: 0.0454 - learning_rate: 8.1000e-06\n",
            "Epoch 141/300\n",
            "\u001b[1m23/23\u001b[0m \u001b[32m━━━━━━━━━━━━━━━━━━━━\u001b[0m\u001b[37m\u001b[0m \u001b[1m1s\u001b[0m 52ms/step - accuracy: 0.9976 - loss: 0.0158 - val_accuracy: 0.9912 - val_loss: 0.0412 - learning_rate: 8.1000e-06\n",
            "Epoch 142/300\n",
            "\u001b[1m23/23\u001b[0m \u001b[32m━━━━━━━━━━━━━━━━━━━━\u001b[0m\u001b[37m\u001b[0m \u001b[1m1s\u001b[0m 50ms/step - accuracy: 0.9989 - loss: 0.0144 - val_accuracy: 0.9912 - val_loss: 0.0419 - learning_rate: 8.1000e-06\n",
            "Epoch 143/300\n",
            "\u001b[1m23/23\u001b[0m \u001b[32m━━━━━━━━━━━━━━━━━━━━\u001b[0m\u001b[37m\u001b[0m \u001b[1m1s\u001b[0m 50ms/step - accuracy: 0.9984 - loss: 0.0146 - val_accuracy: 0.9905 - val_loss: 0.0435 - learning_rate: 8.1000e-06\n",
            "Epoch 144/300\n",
            "\u001b[1m23/23\u001b[0m \u001b[32m━━━━━━━━━━━━━━━━━━━━\u001b[0m\u001b[37m\u001b[0m \u001b[1m2s\u001b[0m 82ms/step - accuracy: 0.9990 - loss: 0.0132 - val_accuracy: 0.9912 - val_loss: 0.0439 - learning_rate: 8.1000e-06\n",
            "Epoch 145/300\n",
            "\u001b[1m23/23\u001b[0m \u001b[32m━━━━━━━━━━━━━━━━━━━━\u001b[0m\u001b[37m\u001b[0m \u001b[1m2s\u001b[0m 73ms/step - accuracy: 0.9976 - loss: 0.0152 - val_accuracy: 0.9891 - val_loss: 0.0453 - learning_rate: 8.1000e-06\n",
            "Epoch 146/300\n",
            "\u001b[1m23/23\u001b[0m \u001b[32m━━━━━━━━━━━━━━━━━━━━\u001b[0m\u001b[37m\u001b[0m \u001b[1m2s\u001b[0m 50ms/step - accuracy: 0.9990 - loss: 0.0139 - val_accuracy: 0.9905 - val_loss: 0.0441 - learning_rate: 8.1000e-06\n",
            "Epoch 147/300\n",
            "\u001b[1m23/23\u001b[0m \u001b[32m━━━━━━━━━━━━━━━━━━━━\u001b[0m\u001b[37m\u001b[0m \u001b[1m1s\u001b[0m 50ms/step - accuracy: 0.9986 - loss: 0.0147 - val_accuracy: 0.9905 - val_loss: 0.0442 - learning_rate: 8.1000e-06\n",
            "Epoch 148/300\n",
            "\u001b[1m23/23\u001b[0m \u001b[32m━━━━━━━━━━━━━━━━━━━━\u001b[0m\u001b[37m\u001b[0m \u001b[1m1s\u001b[0m 49ms/step - accuracy: 0.9973 - loss: 0.0159 - val_accuracy: 0.9905 - val_loss: 0.0450 - learning_rate: 8.1000e-06\n",
            "Epoch 149/300\n",
            "\u001b[1m23/23\u001b[0m \u001b[32m━━━━━━━━━━━━━━━━━━━━\u001b[0m\u001b[37m\u001b[0m \u001b[1m1s\u001b[0m 49ms/step - accuracy: 0.9990 - loss: 0.0137 - val_accuracy: 0.9905 - val_loss: 0.0418 - learning_rate: 8.1000e-06\n",
            "Epoch 150/300\n",
            "\u001b[1m23/23\u001b[0m \u001b[32m━━━━━━━━━━━━━━━━━━━━\u001b[0m\u001b[37m\u001b[0m \u001b[1m1s\u001b[0m 50ms/step - accuracy: 0.9979 - loss: 0.0150 - val_accuracy: 0.9918 - val_loss: 0.0444 - learning_rate: 8.1000e-06\n",
            "Epoch 151/300\n",
            "\u001b[1m23/23\u001b[0m \u001b[32m━━━━━━━━━━━━━━━━━━━━\u001b[0m\u001b[37m\u001b[0m \u001b[1m1s\u001b[0m 53ms/step - accuracy: 0.9988 - loss: 0.0137 - val_accuracy: 0.9905 - val_loss: 0.0448 - learning_rate: 8.1000e-06\n",
            "\n",
            "✅ Entraînement terminé\n",
            "Temps total: 224.36 secondes\n"
          ]
        }
      ]
    },
    {
      "cell_type": "markdown",
      "source": [
        "#  CONVERSION EN TFLITE\n"
      ],
      "metadata": {
        "id": "bspZLridpRXI"
      }
    },
    {
      "cell_type": "code",
      "source": [
        "#  CONVERSION EN TFLITE\n",
        "converter = tf.lite.TFLiteConverter.from_keras_model(model)\n",
        "tflite_model = converter.convert()\n",
        "\n",
        "with open(\"model.tflite\", \"wb\") as f:\n",
        "    f.write(tflite_model)\n",
        "\n",
        "print(\"\\n✅ Modèle TFLite exporté\")"
      ],
      "metadata": {
        "colab": {
          "base_uri": "https://localhost:8080/"
        },
        "id": "Z7huKfTypbck",
        "outputId": "1dc3b020-2273-4386-b954-09c3c4ea827c"
      },
      "execution_count": 27,
      "outputs": [
        {
          "output_type": "stream",
          "name": "stdout",
          "text": [
            "Saved artifact at '/tmp/tmpnw9das89'. The following endpoints are available:\n",
            "\n",
            "* Endpoint 'serve'\n",
            "  args_0 (POSITIONAL_ONLY): TensorSpec(shape=(None, 189), dtype=tf.float32, name='keras_tensor_10')\n",
            "Output Type:\n",
            "  TensorSpec(shape=(None, 6), dtype=tf.float32, name=None)\n",
            "Captures:\n",
            "  134175733810000: TensorSpec(shape=(), dtype=tf.resource, name=None)\n",
            "  134175733811536: TensorSpec(shape=(), dtype=tf.resource, name=None)\n",
            "  134175733811728: TensorSpec(shape=(), dtype=tf.resource, name=None)\n",
            "  134175733810960: TensorSpec(shape=(), dtype=tf.resource, name=None)\n",
            "  134175733809232: TensorSpec(shape=(), dtype=tf.resource, name=None)\n",
            "  134175733811344: TensorSpec(shape=(), dtype=tf.resource, name=None)\n",
            "  134175733813264: TensorSpec(shape=(), dtype=tf.resource, name=None)\n",
            "  134175733813840: TensorSpec(shape=(), dtype=tf.resource, name=None)\n",
            "  134175733814032: TensorSpec(shape=(), dtype=tf.resource, name=None)\n",
            "  134175733812880: TensorSpec(shape=(), dtype=tf.resource, name=None)\n",
            "  134175733810576: TensorSpec(shape=(), dtype=tf.resource, name=None)\n",
            "  134175733813648: TensorSpec(shape=(), dtype=tf.resource, name=None)\n",
            "  134175733815568: TensorSpec(shape=(), dtype=tf.resource, name=None)\n",
            "  134175733816144: TensorSpec(shape=(), dtype=tf.resource, name=None)\n",
            "  134175733816336: TensorSpec(shape=(), dtype=tf.resource, name=None)\n",
            "  134175733815184: TensorSpec(shape=(), dtype=tf.resource, name=None)\n",
            "  134175733810768: TensorSpec(shape=(), dtype=tf.resource, name=None)\n",
            "  134175733815952: TensorSpec(shape=(), dtype=tf.resource, name=None)\n",
            "  134175733817872: TensorSpec(shape=(), dtype=tf.resource, name=None)\n",
            "  134175733818448: TensorSpec(shape=(), dtype=tf.resource, name=None)\n",
            "\n",
            "✅ Modèle TFLite exporté\n"
          ]
        }
      ]
    },
    {
      "cell_type": "markdown",
      "source": [
        "# ÉVALUATION DU MODÈLE (Question 2.1.3)\n"
      ],
      "metadata": {
        "id": "hYE8Il0Kpfe6"
      }
    },
    {
      "cell_type": "code",
      "source": [
        "#  ÉVALUATION DU MODÈLE (Question 2.1.3)\n",
        "test_loss, test_accuracy = model.evaluate(X_test, y_test, verbose=0)\n",
        "\n",
        "print(\"\\n=== RÉSULTATS FINAUX ===\")\n",
        "print(f\"Test Accuracy: {test_accuracy:.4f} (>96% : {'✓' if test_accuracy >= 0.96 else '✗'})\")\n",
        "print(f\"Temps d'entraînement: {training_time:.2f}s\")"
      ],
      "metadata": {
        "colab": {
          "base_uri": "https://localhost:8080/"
        },
        "id": "3zinXwwvpjjE",
        "outputId": "eb76b248-6bbb-489e-d685-4053b4969f6c"
      },
      "execution_count": 28,
      "outputs": [
        {
          "output_type": "stream",
          "name": "stdout",
          "text": [
            "\n",
            "=== RÉSULTATS FINAUX ===\n",
            "Test Accuracy: 0.9552 (>96% : ✗)\n",
            "Temps d'entraînement: 224.36s\n"
          ]
        }
      ]
    },
    {
      "cell_type": "markdown",
      "source": [
        "#  VISUALISATION DES COURBES\n"
      ],
      "metadata": {
        "id": "9MPV3dY5ppCt"
      }
    },
    {
      "cell_type": "code",
      "source": [
        "#  VISUALISATION DES COURBES\n",
        "plt.figure(figsize=(10, 5))\n",
        "plt.plot(history.history['accuracy'], label='Train')\n",
        "plt.plot(history.history['val_accuracy'], label='Validation')\n",
        "plt.axvline(early_stop.stopped_epoch, color='red', linestyle='--', label='Early Stop')\n",
        "plt.title(f\"Accuracy finale test: {test_accuracy:.4f}\")\n",
        "plt.xlabel('Epochs')\n",
        "plt.ylabel('Accuracy')\n",
        "plt.legend()\n",
        "plt.show()"
      ],
      "metadata": {
        "colab": {
          "base_uri": "https://localhost:8080/",
          "height": 487
        },
        "id": "oF2hUrpoptMY",
        "outputId": "e3f9f34a-3d3e-4959-b110-aca5cfdbf3c9"
      },
      "execution_count": 14,
      "outputs": [
        {
          "output_type": "display_data",
          "data": {
            "text/plain": [
              "<Figure size 1000x500 with 1 Axes>"
            ],
            "image/png": "[encoded data removed]"
          },
          "metadata": {}
        }
      ]
    },
    {
      "cell_type": "markdown",
      "source": [],
      "metadata": {
        "id": "vvZCvR6Joh8Y"
      }
    }
  ]
}
